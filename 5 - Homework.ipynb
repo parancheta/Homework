{
 "cells": [
  {
   "attachments": {},
   "cell_type": "markdown",
   "metadata": {},
   "source": [
    "# 1. What does Pandas stand for?\n",
    "\n",
    "Pandas stand for Panel Data and Python Data Analysis\n",
    "\n",
    "# 2. What are the two collections used in Pandas?\n",
    "\n",
    "The two collections are DataFrames and Series\n",
    "\n",
    "# 3. Name 4 things Pandas can do for us\n",
    "\n",
    "Pandas can load, manipulate, prepare, and model data\n",
    "\n",
    "# 4. To permanently sort a DataFrame, which keyboard should one use with the df.sort() method?\n",
    "\n",
    "You should use \"values\"\n",
    "\n",
    "# 5. What is a CSV\n",
    "\n",
    "CSV is a file type that stands for \"Comma Separated Values\"\n",
    "\n",
    "# 6. When cleaning data what values do we not like in our data?\n",
    "\n",
    "We do not like null values"
   ]
  },
  {
   "cell_type": "code",
   "execution_count": 21,
   "metadata": {},
   "outputs": [
    {
     "name": "stdout",
     "output_type": "stream",
     "text": [
      "[[25 16]\n",
      " [11  2]\n",
      " [13  4]\n",
      " [ 7 81]\n",
      " [ 5  6]\n",
      " [11 12]]\n"
     ]
    }
   ],
   "source": [
    "#Concatenate these 3 arrays into a new array named \"newArray\"\n",
    "\n",
    "import numpy as np\n",
    "\n",
    "array1 = np.array([[25, 16]])\n",
    "array2 = np.array([[11,2], [13, 4]])\n",
    "array3 = np.array([[7, 81], [5,6], [11,12]])\n",
    "\n",
    "newArray = np.concatenate((array1, array2, array3), axis = 0)\n",
    "\n",
    "print(newArray)"
   ]
  },
  {
   "cell_type": "code",
   "execution_count": 11,
   "metadata": {},
   "outputs": [
    {
     "name": "stdout",
     "output_type": "stream",
     "text": [
      "[[16 25]\n",
      " [ 2 11]\n",
      " [ 4 13]\n",
      " [ 7 81]\n",
      " [ 5  6]\n",
      " [11 12]]\n"
     ]
    }
   ],
   "source": [
    "#Sort newArray in order into sortedArray\n",
    "\n",
    "sortedArray = np.sort(newArray)\n",
    "\n",
    "print(sortedArray)"
   ]
  },
  {
   "cell_type": "code",
   "execution_count": 24,
   "metadata": {},
   "outputs": [
    {
     "name": "stdout",
     "output_type": "stream",
     "text": [
      "[[[16 25  2]\n",
      "  [11  4 13]]\n",
      "\n",
      " [[ 7 81  5]\n",
      "  [ 6 11 12]]]\n"
     ]
    }
   ],
   "source": [
    "#Reshape the 'sortedArray' into a new array\n",
    "#called 'reshapedArray' so it has 2 dimensions with a size of 2,3\n",
    "\n",
    "reshapedArray = sortedArray.reshape(2,2,3)\n",
    "\n",
    "print(reshapedArray)"
   ]
  },
  {
   "cell_type": "code",
   "execution_count": 33,
   "metadata": {},
   "outputs": [
    {
     "name": "stdout",
     "output_type": "stream",
     "text": [
      "[16 25  2]\n",
      "[11  4 13]\n",
      "[ 7 81  5]\n",
      "[ 6 11 12]\n"
     ]
    }
   ],
   "source": [
    "#Unpack the array tuples into 4 well named variables\n",
    "\n",
    "firstrow, secondrow = reshapedArray\n",
    "\n",
    "firstrow0, firstrow1 = firstrow\n",
    "secondrow0, secondrow1 = secondrow\n",
    "\n",
    "print(firstrow0)\n",
    "print(firstrow1)\n",
    "print(secondrow0)\n",
    "print(secondrow1)"
   ]
  },
  {
   "cell_type": "code",
   "execution_count": 37,
   "metadata": {},
   "outputs": [
    {
     "name": "stdout",
     "output_type": "stream",
     "text": [
      "[ 0  1  2  3  4  5  6  7 10 11 12 13 14 15 16 17 20 21 22 23 24 25 26 27]\n"
     ]
    }
   ],
   "source": [
    "#combine and sort the folloiwng arrays into one array called 'comboArray'\n",
    "\n",
    "arrayOne = np.array([10,11,12,13,14,15,16,17])\n",
    "arrayTwo = np.array([20,21,22,23,24,25,26,27])\n",
    "arrayThree = np.array([0,1,2,3,4,5,6,7])\n",
    "\n",
    "combArray = np.concatenate((arrayOne, arrayTwo, arrayThree))\n",
    "comboArray = np.sort(combArray)\n",
    "\n",
    "print(comboArray)\n",
    "\n",
    "\n"
   ]
  },
  {
   "cell_type": "code",
   "execution_count": 57,
   "metadata": {},
   "outputs": [
    {
     "name": "stdout",
     "output_type": "stream",
     "text": [
      "2\n",
      "[ 3  4  5  6  7 10 11 12 13 14 15 16 17 20 21 22 23 24 25 26 27]\n",
      "[ 3  4  5  6  7 10 11 12 13 14 15 16]\n",
      "[22 23 24 25 26 27]\n",
      "[ 0  1  2  3  4  5  6  7 10 11 12 13 14 15]\n",
      "[20 22 24 26]\n",
      "[27 22 15 10  3]\n"
     ]
    }
   ],
   "source": [
    "#Take comoboArray and perform the following slice activities\n",
    "\n",
    "sec1 = comboArray[2]\n",
    "print(sec1)\n",
    "\n",
    "sec2 = comboArray[3:]\n",
    "print(sec2)\n",
    "\n",
    "sec3 = comboArray[3:15]\n",
    "print(sec3)\n",
    "\n",
    "sec4 = comboArray[-6:]\n",
    "print(sec4)\n",
    "\n",
    "sec5 = comboArray[0:-10]\n",
    "print(sec5)\n",
    "\n",
    "sec6 = comboArray[16::2]\n",
    "print(sec6)\n",
    "\n",
    "sec7 = comboArray[::-5]\n",
    "print(sec7)"
   ]
  },
  {
   "cell_type": "code",
   "execution_count": 85,
   "metadata": {},
   "outputs": [
    {
     "name": "stdout",
     "output_type": "stream",
     "text": [
      "[[[ 17.    70.    10.8 ]\n",
      "  [ 27.    80.3   20.71]]\n",
      "\n",
      " [[ 37.    90.02  30.8 ]\n",
      "  [ 47.   101.    41.  ]]\n",
      "\n",
      " [[ 57.4   94.    50.7 ]\n",
      "  [ 32.    85.5   36.2 ]]]\n",
      "[[[ 17.    70.    10.8 ]\n",
      "  [ 27.    80.3   20.71]]\n",
      "\n",
      " [[ 37.    90.02  30.8 ]\n",
      "  [ 47.   101.    41.  ]]\n",
      "\n",
      " [[ 57.4   94.    50.7 ]\n",
      "  [ 32.    85.5   36.2 ]]]\n",
      "[[[0.00000e+00 0.00000e+00 1.07000e+00]\n",
      "  [1.70000e+02 7.21000e+02 1.07107e+02]]\n",
      "\n",
      " [[3.40000e+02 1.40140e+03 2.15070e+02]\n",
      "  [5.10000e+02 2.17000e+03 3.24210e+02]]\n",
      "\n",
      " [[6.86800e+02 1.68000e+03 4.28000e+02]\n",
      "  [2.55000e+02 1.08500e+03 2.72850e+02]]]\n"
     ]
    }
   ],
   "source": [
    "#Using simply math operations, braoadcast addition, division, \n",
    "#and multiplication operations for these 2 arrays\n",
    "mathArray1 = np.array([[[ 0.0,  0.0,  0.10], [10.0, 10.30, 10.01]],\n",
    "        [[20.0, 20.02, 20.10], [30.0, 31.0, 30.30]],\n",
    "        [[40.40, 24.0, 40.0], [15.0, 15.5, 25.5]]])\n",
    "\n",
    "mathArray2 = np.array([[17.0, 70.0, 10.7]])\n",
    "\n",
    "addArray = (mathArray1 + mathArray2)\n",
    "divArray = (mathArray1 + mathArray2)\n",
    "mulArray = (mathArray1 * mathArray2)\n",
    "\n",
    "print(addArray)\n",
    "print(divArray)\n",
    "print(mulArray)"
   ]
  },
  {
   "cell_type": "code",
   "execution_count": 86,
   "metadata": {},
   "outputs": [
    {
     "name": "stdout",
     "output_type": "stream",
     "text": [
      "[[[-17.   -70.   -10.6 ]\n",
      "  [ -7.   -59.7   -0.69]]\n",
      "\n",
      " [[  3.   -49.98   9.4 ]\n",
      "  [ 13.   -39.    19.6 ]]\n",
      "\n",
      " [[ 23.4  -46.    29.3 ]\n",
      "  [ -2.   -54.5   14.8 ]]]\n"
     ]
    }
   ],
   "source": [
    "#Use the NumPy Arithmetic functions to do \n",
    "#the subtraction of the above two arrays\n",
    "\n",
    "subArray = np.subtract(mathArray1, mathArray2)\n",
    "print(subArray)"
   ]
  },
  {
   "cell_type": "code",
   "execution_count": 92,
   "metadata": {},
   "outputs": [
    {
     "name": "stdout",
     "output_type": "stream",
     "text": [
      "[ 0.  0. 30. 24. 15.]\n",
      "[]\n"
     ]
    }
   ],
   "source": [
    "#Using modulo find all elements that are divisible by 3 from point 7\n",
    "\n",
    "divByThree = mathArray1[mathArray1 % 3==0]\n",
    "divByThree2 = mathArray2[mathArray2 % 3==0]\n",
    "print(divByThree)\n",
    "print(divByThree2)"
   ]
  },
  {
   "cell_type": "code",
   "execution_count": 97,
   "metadata": {},
   "outputs": [
    {
     "name": "stdout",
     "output_type": "stream",
     "text": [
      "  Ingredients  Quanitity   Unit\n",
      "0       flour          4   cups\n",
      "1        milk          1    cup\n",
      "2        eggs          2  large\n",
      "3        spam          1    can\n"
     ]
    }
   ],
   "source": [
    "#Using Series, create a DataFrame that looks like this:\n",
    "\n",
    "import pandas as pd\n",
    "\n",
    "ingredients = pd.Series(['flour', 'milk', 'eggs', 'spam'], name = 'Ingredients')\n",
    "quantity = pd.Series([4,1,2,1], name = 'Quanitity')\n",
    "unit = pd.Series(['cups', 'cup', 'large', 'can'], name = 'Unit')\n",
    "\n",
    "Dinner = pd.concat([ingredients, quantity, unit], axis = 1)\n",
    "print(Dinner)\n"
   ]
  },
  {
   "cell_type": "code",
   "execution_count": 99,
   "metadata": {},
   "outputs": [
    {
     "name": "stdout",
     "output_type": "stream",
     "text": [
      "      Name  Height Qualification  address  Age        Pets           sport\n",
      "0      Jai     5.1           Msc    Delhi   21         Dog           Darts\n",
      "1  janusha     6.2            MA     Doha   23       Bunny      Basketball\n",
      "2   Gaurav     5.1           Msc  Chennai   24  Chinchilla  PaddleBoarding\n",
      "3     Anuj     5.2           Msc   Dakhar   21      Parrot         Cricket\n"
     ]
    }
   ],
   "source": [
    "#create a DataFrame named studentData\n",
    "\n",
    "import pandas as pd\n",
    "\n",
    "studentData = pd.DataFrame ({'Name': ['Jai', 'janusha', 'Gaurav', 'Anuj'],\n",
    "        'Height': [5.1, 6.2, 5.1, 5.2],\n",
    "        'Qualification': ['Msc', 'MA', 'Msc', 'Msc'],\n",
    "        'address': ['Delhi', 'Doha', 'Chennai', 'Dakhar'],\n",
    "        'Age': [21, 23, 24, 21],\n",
    "        'Pets': ['Dog', 'Bunny', 'Chinchilla', 'Parrot'],\n",
    "        'sport': ['Darts', 'Basketball', 'PaddleBoarding', 'Cricket']\n",
    "    }\n",
    ")\n",
    "\n",
    "print(studentData)"
   ]
  },
  {
   "cell_type": "code",
   "execution_count": 110,
   "metadata": {},
   "outputs": [],
   "source": [
    "#Add a new column to the dataframe\n",
    "\n",
    "studentData.insert(7, 'deserts', ['ice cream', 'cashew fudge', 'waffles', 'carrot halwa'], True )\n"
   ]
  },
  {
   "cell_type": "code",
   "execution_count": 111,
   "metadata": {},
   "outputs": [
    {
     "name": "stdout",
     "output_type": "stream",
     "text": [
      "      Name  Height Qualification  address  Age        Pets       deserts  \\\n",
      "3     Anuj     5.2           Msc   Dakhar   21      Parrot  carrot halwa   \n",
      "2   Gaurav     5.1           Msc  Chennai   24  Chinchilla       waffles   \n",
      "0      Jai     5.1           Msc    Delhi   21         Dog     ice cream   \n",
      "1  janusha     6.2            MA     Doha   23       Bunny  cashew fudge   \n",
      "\n",
      "        deserts       deserts       deserts       deserts       deserts  \\\n",
      "3     ice cream     ice cream  carrot halwa  carrot halwa  carrot halwa   \n",
      "2  cashew fudge  cashew fudge       waffles       waffles       waffles   \n",
      "0       waffles       waffles     ice cream     ice cream     ice cream   \n",
      "1  carrot halwa  carrot halwa  cashew fudge  cashew fudge  cashew fudge   \n",
      "\n",
      "        deserts           sport  \n",
      "3  carrot halwa         Cricket  \n",
      "2       waffles  PaddleBoarding  \n",
      "0     ice cream           Darts  \n",
      "1  cashew fudge      Basketball  \n"
     ]
    }
   ],
   "source": [
    "#sort studentData in ascending order\n",
    "\n",
    "studentData.sort_values(by = ['Name', 'address'], inplace = True)\n",
    "print(studentData)"
   ]
  },
  {
   "cell_type": "code",
   "execution_count": 112,
   "metadata": {},
   "outputs": [],
   "source": [
    "#save DataFrame to a disc as a .csv file\n",
    "df = pd.DataFrame({'Cows': [12, 20], 'Goats': [22, 19]}, index=['Year 1', 'Year 2'])\n",
    "df.to_csv('cows_and_goats.csv')"
   ]
  },
  {
   "cell_type": "code",
   "execution_count": 144,
   "metadata": {},
   "outputs": [
    {
     "name": "stdout",
     "output_type": "stream",
     "text": [
      "               0 Flavor\n",
      "Red      Peppers  Spicy\n",
      "Yellow      Corn  Sweet\n",
      "Green   Broccoli  Bland\n",
      "Purple  Eggplant  Bland\n"
     ]
    }
   ],
   "source": [
    "# Using Pandas, make your own csv on vegetables...\n",
    "import pandas as pd\n",
    "vegetables = pd.DataFrame(['Peppers', 'Corn', 'Broccoli', 'Eggplant'], \n",
    "                          ['Red', 'Yellow', 'Green', 'Purple'])\n",
    "\n",
    "flavor = pd.Series(['Spicy', 'Sweet', 'Bland', 'Bland'])\n",
    "\n",
    "vegetables.loc[:, ['Flavor']] = ['Spicy', 'Sweet', 'Bland', 'Bland']\n",
    "\n",
    "print(vegetables)\n",
    "\n",
    "vegetables.to_csv('vegetable_information')\n",
    "\n"
   ]
  }
 ],
 "metadata": {
  "kernelspec": {
   "display_name": "base",
   "language": "python",
   "name": "python3"
  },
  "language_info": {
   "codemirror_mode": {
    "name": "ipython",
    "version": 3
   },
   "file_extension": ".py",
   "mimetype": "text/x-python",
   "name": "python",
   "nbconvert_exporter": "python",
   "pygments_lexer": "ipython3",
   "version": "3.9.13"
  },
  "orig_nbformat": 4,
  "vscode": {
   "interpreter": {
    "hash": "235063e555bd9346e3de020571e112cdf4b15bf92426835040c0fc71df38ab36"
   }
  }
 },
 "nbformat": 4,
 "nbformat_minor": 2
}
