{
 "cells": [
  {
   "attachments": {},
   "cell_type": "markdown",
   "metadata": {},
   "source": [
    "## **What does one need to do to use a module?**\n",
    "\n",
    "The user needs to save the file with the extension \".py\"\n",
    "\n",
    "## **Name a Module we looked at and write a line or 2 of code as an example using this module**\n",
    "\n",
    "Random module\n",
    "\n",
    "import random\n",
    "\n",
    "print(random.randint(0,10))\n",
    "\n",
    "## **What is a benefit of using exception handling?**\n",
    "\n",
    "Exception handling lets you try multiple lines of code at one time. For example, if the first line of code raises an error, the except block will be executed. \n",
    "\n",
    "\n",
    "## **NumPy arrays are like what Python data type?**\n",
    "\n",
    "NumPy arrays are like tuples \n",
    "\n",
    "## **What is one of the main benefits of using NumPy arrays?**\n",
    "\n",
    "One of the main benefits of NumPy arrays is that it has a large library of high-level mathematical functions \n",
    "\n",
    "## **What is one of the main requirements about the 'dtype' NumPy arrays?**\n",
    "\n",
    "One of the main requirements about the dtype array is that you should specify what data type you want, otherwise it will default to a floating point\n",
    "\n",
    "## **Of the 10 uses of NumPy, name 2**\n",
    "\n",
    "NumPy can be used as alternatives for lists and for multi-dimensional arrays\n",
    "\n",
    "## **Name one of the other libraries we'll use with NumPy**\n",
    "\n",
    "Another library we will use is DateTime\n",
    "\n",
    "## **What is the shape of NumPy arrays?**\n",
    "\n",
    "NumPy arrays are tuples of integers\n",
    "\n",
    "## **What is a Tensor?**\n",
    "A Tensor is an array with 3 or more dimensions\n",
    "\n",
    "## **Name a reason why it's better using NumPy for Data Analysis than using a Python list?**\n",
    "\n",
    "NumPy is better because it requires less memory, is faster, and more convenient\n",
    "\n",
    "## **When creating an empty array, where do the elements come from?**\n",
    "\n",
    "Creating an empty array begins with random content and depends on the state of the memory. Users can add the data afterwards."
   ]
  }
 ],
 "metadata": {
  "kernelspec": {
   "display_name": "base",
   "language": "python",
   "name": "python3"
  },
  "language_info": {
   "name": "python",
   "version": "3.9.13"
  },
  "orig_nbformat": 4,
  "vscode": {
   "interpreter": {
    "hash": "235063e555bd9346e3de020571e112cdf4b15bf92426835040c0fc71df38ab36"
   }
  }
 },
 "nbformat": 4,
 "nbformat_minor": 2
}
