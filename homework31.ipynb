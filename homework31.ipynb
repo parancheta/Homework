{
 "cells": [
  {
   "cell_type": "code",
   "execution_count": 1,
   "metadata": {},
   "outputs": [
    {
     "name": "stdout",
     "output_type": "stream",
     "text": [
      "9\n",
      "i\n",
      "ing Data Analytics\n",
      "Learning Data Analytics and Python is Great!\n",
      "{'Hi my name is Pete, I am 5 foot 10 and 27 years old today.'}\n"
     ]
    }
   ],
   "source": [
    "\n",
    "# My name is Pete Ancheta\n",
    "# My favorite food is burritos\n",
    "# My dream job is doing data analytics for the NBA or NFL\n",
    "\n",
    "a = \"Hello!\"\n",
    "b = \"20\"\n",
    "c = True\n",
    "d = \"Go Birds!\"\n",
    "e = range(5);\n",
    "\n",
    "print(len(d));\n",
    "print(d[4]);\n",
    "\n",
    "# create a new variable called savvy\n",
    "\n",
    "savvy = \"Learning Data Analytics and Python is Awesome!\"\n",
    "\n",
    "print(savvy[5:23]);\n",
    "\n",
    "# temporarily change text in a string\n",
    "\n",
    "print(savvy.replace(\"Awesome\", \"Great\"));\n",
    "\n",
    "# create and assign 3 more variables\n",
    "\n",
    "name, age, length = \"Pete\", \"27\", \"5 foot 10\"\n",
    "\n",
    "# format new string called miniBio\n",
    "\n",
    "miniBio = {\"Hi my name is \" + name + \", I am \" + length + \" and \" + age + \" years old today.\"}\n",
    "\n",
    "print(miniBio)\n",
    "\n",
    "# cast and print the age variable to float\n",
    "age = float(27)"
   ]
  },
  {
   "cell_type": "markdown",
   "metadata": {},
   "source": [
    "1. An algorithm is a process or set of rules to be followed in calculations or other problem-solving operations, especially by a computer\n",
    "2. Python is considered to be a high-level language because it's easy for humans to understand\n",
    "3. Python is a formal language \n",
    "4. A variable name must start with a letter or an underscore - it cannot start with a number\n",
    "5. A semantic error occurs when a program works without raising an exception, but gives a different answer than the expected result\n",
    "6. The #1 rule of coding/debugging is assume nothing\n",
    "7. Five Python reserved words include: except, from, class, break, not, and finally\n",
    "8. https://www.umn.ac.id/en/beginners-must-know-that-python-is-considered-high-level-programming/#:~:text=Meanwhile%2C%20it%20is%20called%20high,understand%20and%20read%20by%20humans.\n"
   ]
  }
 ],
 "metadata": {
  "kernelspec": {
   "display_name": "Python 3",
   "language": "python",
   "name": "python3"
  },
  "language_info": {
   "codemirror_mode": {
    "name": "ipython",
    "version": 3
   },
   "file_extension": ".py",
   "mimetype": "text/x-python",
   "name": "python",
   "nbconvert_exporter": "python",
   "pygments_lexer": "ipython3",
   "version": "3.11.1"
  },
  "vscode": {
   "interpreter": {
    "hash": "977c3b1c02efd42b97fb9a36f75bf0dc219e6d4e402adb8876241ca0cf151a68"
   }
  }
 },
 "nbformat": 4,
 "nbformat_minor": 2
}
